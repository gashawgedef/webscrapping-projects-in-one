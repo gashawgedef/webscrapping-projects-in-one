{
 "cells": [
  {
   "cell_type": "code",
   "execution_count": 15,
   "id": "b0d8b3e9-7713-4b44-94b6-a05158805dfc",
   "metadata": {},
   "outputs": [],
   "source": [
    "import requests\n",
    "from bs4 import BeautifulSoup"
   ]
  },
  {
   "cell_type": "code",
   "execution_count": 28,
   "id": "cf2436ef-7428-40d2-9cc1-49bf2ae0de60",
   "metadata": {},
   "outputs": [
    {
     "name": "stdout",
     "output_type": "stream",
     "text": [
      "head\n"
     ]
    }
   ],
   "source": [
    "url = \"https://www.ebay.com/b/Cell-Phones-Smartphones/9355?Brand=Apple&Color=Purple&Model=Apple%2520iPhone%252014%2520Pro%2520Max&rt=nc\"\n",
    "res = requests.get(url)\n",
    "soup = BeautifulSoup(res.content,'lxml')\n",
    "print(soup.title)\n"
   ]
  },
  {
   "cell_type": "code",
   "execution_count": null,
   "id": "d7c67dd9-bdc4-4c07-b2e6-cac18cf1e5d3",
   "metadata": {},
   "outputs": [],
   "source": []
  },
  {
   "cell_type": "code",
   "execution_count": null,
   "id": "1361ec79-a223-4d88-9a51-af422ed6b84e",
   "metadata": {},
   "outputs": [],
   "source": []
  }
 ],
 "metadata": {
  "kernelspec": {
   "display_name": "Python 3 (ipykernel)",
   "language": "python",
   "name": "python3"
  },
  "language_info": {
   "codemirror_mode": {
    "name": "ipython",
    "version": 3
   },
   "file_extension": ".py",
   "mimetype": "text/x-python",
   "name": "python",
   "nbconvert_exporter": "python",
   "pygments_lexer": "ipython3",
   "version": "3.11.7"
  }
 },
 "nbformat": 4,
 "nbformat_minor": 5
}
