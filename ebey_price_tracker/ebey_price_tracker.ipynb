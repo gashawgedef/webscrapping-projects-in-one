{
 "cells": [
  {
   "cell_type": "code",
   "execution_count": 50,
   "id": "12c51fe3-e495-49a4-99e2-e23ff3e307c3",
   "metadata": {},
   "outputs": [],
   "source": [
    "import requests\n",
    "from bs4 import BeautifulSoup"
   ]
  },
  {
   "cell_type": "code",
   "execution_count": 52,
   "id": "38c51d54-4ce9-43ce-949f-bdb67659eecf",
   "metadata": {},
   "outputs": [],
   "source": [
    "url = \"https://www.ebay.com/itm/276217871434?var=578595881617\"\n",
    "res = requests.get(url)\n",
    "# print(res.text)"
   ]
  },
  {
   "cell_type": "code",
   "execution_count": 53,
   "id": "ba142c12-ff0d-4c72-a058-58056c3c8990",
   "metadata": {},
   "outputs": [],
   "source": [
    "soup = BeautifulSoup(res.text,'lxml')\n",
    "unedited = soup.select('.x-price-primary > .ux-textspans')[0].text[4:]\n",
    "actual_price = float(unedited)"
   ]
  },
  {
   "cell_type": "code",
   "execution_count": 59,
   "id": "c5ced6ce-078f-4f52-ae4d-1adc8df4b039",
   "metadata": {},
   "outputs": [
    {
     "name": "stdout",
     "output_type": "stream",
     "text": [
      "The price is below your budget, go grab them\n"
     ]
    }
   ],
   "source": [
    "my_price = 1000\n",
    "if actual_price <my_price:\n",
    "    print(\"The price is below your budget, go grab them\")\n",
    "    "
   ]
  },
  {
   "cell_type": "code",
   "execution_count": null,
   "id": "7f6b1ddf-a380-4d4c-974f-620c38d0aa71",
   "metadata": {},
   "outputs": [],
   "source": []
  },
  {
   "cell_type": "code",
   "execution_count": null,
   "id": "bb7a1928-cd21-4080-9086-67938e4f7dca",
   "metadata": {},
   "outputs": [],
   "source": []
  },
  {
   "cell_type": "code",
   "execution_count": null,
   "id": "e6d5fc85-98d9-4c1a-832f-edd47bb493d6",
   "metadata": {},
   "outputs": [],
   "source": []
  }
 ],
 "metadata": {
  "kernelspec": {
   "display_name": "Python 3 (ipykernel)",
   "language": "python",
   "name": "python3"
  },
  "language_info": {
   "codemirror_mode": {
    "name": "ipython",
    "version": 3
   },
   "file_extension": ".py",
   "mimetype": "text/x-python",
   "name": "python",
   "nbconvert_exporter": "python",
   "pygments_lexer": "ipython3",
   "version": "3.11.7"
  }
 },
 "nbformat": 4,
 "nbformat_minor": 5
}
